{
 "cells": [
  {
   "cell_type": "code",
   "execution_count": 278,
   "metadata": {},
   "outputs": [],
   "source": [
    "import torch\n",
    "import torch.optim as optim\n",
    "import torch.nn.functional as F\n",
    "import torch.nn as nn\n",
    "import matplotlib.pyplot as plt\n",
    "import torch.autograd as autograd\n",
    "import saliency.core as saliency\n",
    "\n",
    "class ExplainerBase(object):\n",
    "\n",
    "    def __init__(self, model_interface, data_interface):\n",
    "\n",
    "        self.model_interface = model_interface\n",
    "        self.data_interface = data_interface\n",
    "\n",
    "    def generate_counterfactuals(self):\n",
    "\n",
    "        raise NotImplementedError\n",
    "\n",
    "    def opposing_class_constraint(self):\n",
    "        \n",
    "        raise NotImplementedError\n",
    "        \n",
    "class VAE(nn.Module):\n",
    "    def __init__(self, input_dim, latent_dim):\n",
    "        super(VAE, self).__init__()\n",
    "        self.latent_dim = latent_dim\n",
    "\n",
    "        self.encoder = nn.Sequential(\n",
    "            nn.Linear(input_dim, 128),\n",
    "            nn.ReLU(),\n",
    "            nn.Linear(128, 64),\n",
    "            nn.ReLU(),\n",
    "            nn.Linear(64, latent_dim * 2)  # Output has both mean and log variance\n",
    "        )\n",
    "\n",
    "        self.decoder = nn.Sequential(\n",
    "            nn.Linear(latent_dim, 64),\n",
    "            nn.ReLU(),\n",
    "            nn.Linear(64, 128),\n",
    "            nn.ReLU(),\n",
    "            nn.Linear(128, input_dim)\n",
    "        )\n",
    "\n",
    "    def reparameterize(self, mu, logvar):\n",
    "        std = torch.exp(0.5 * logvar)\n",
    "        eps = torch.randn_like(std)\n",
    "        return mu + eps * std\n",
    "\n",
    "    def forward(self, x):\n",
    "        z_params = self.encoder(x)\n",
    "        z_params = z_params.view(-1, 2, self.latent_dim)  # Reshape to (batch_size, 2, latent_dim)\n",
    "        mu = z_params[:, 0, :]\n",
    "        logvar = z_params[:, 1, :]\n",
    "        z = self.reparameterize(mu, logvar)\n",
    "        reconstructed_x = self.decoder(z)\n",
    "        return reconstructed_x, mu, logvar\n",
    "\n",
    "\n",
    "        \n",
    "class QUCE(ExplainerBase):\n",
    "    def __init__(self, data_interface, model_interface, input_dim, latent_dim):\n",
    "        super().__init__(data_interface, model_interface)\n",
    "        self.vae = VAE(input_dim, latent_dim)\n",
    "        self.vae_optimizer = optim.Adam(self.vae.parameters(), lr=0.1)\n",
    "        self.latent_dim = latent_dim\n",
    "    \n",
    "    def compute_integrated_gradients_uncertainty(self, instances_list, num_steps=1000):\n",
    "        integrated_gradients = torch.zeros_like(torch.tensor(instances_list[0]))  # Convert to PyTorch tensor\n",
    "\n",
    "        start_instance_tensor = torch.tensor(instances_list[0], dtype=torch.float32, requires_grad=True)\n",
    "        end_instance_tensor = torch.tensor(instances_list[1], dtype=torch.float32, requires_grad=True)\n",
    "\n",
    "            # Linear interpolation between start and end instances\n",
    "        path_interp = torch.linspace(0, 1, num_steps).view(-1, 1)\n",
    "        interp_instances = (1 - path_interp) * start_instance_tensor + path_interp * end_instance_tensor\n",
    "\n",
    "            # Compute model output at each interpolated point\n",
    "        outputs = self.model_interface(interp_instances)\n",
    "\n",
    "            # Sum the outputs to make it a scalar (assuming the model returns a tensor)\n",
    "        outputs_sum = torch.sum(outputs)\n",
    "\n",
    "            # Compute gradients at each interpolated point\n",
    "        gradients = torch.autograd.grad(outputs_sum, interp_instances, retain_graph=True)[0]\n",
    "\n",
    "            # Clip gradients to a reasonable range\n",
    "            #gradients = torch.clamp(gradients, min=-1.0, max=1.0)\n",
    "            # Integrate gradients along the path\n",
    "        integrated_gradients = torch.sum(gradients, dim=0)/len(gradients)*(end_instance_tensor.detach().numpy() - start_instance_tensor.detach().numpy())\n",
    "        return integrated_gradients\n",
    "    \n",
    "    \n",
    "    def compute_integrated_gradients_interpolation(self, instances_list, num_steps=100):\n",
    "        integrated_gradients = torch.zeros_like(torch.tensor(instances_list[0]))  # Convert to PyTorch tensor\n",
    "\n",
    "        for i in range(len(instances_list) - 1):\n",
    "            start_instance_tensor = torch.tensor(instances_list[i], dtype=torch.float32, requires_grad=True)\n",
    "            end_instance_tensor = torch.tensor(instances_list[i + 1], dtype=torch.float32, requires_grad=True)\n",
    "\n",
    "            # Linear interpolation between start and end instances\n",
    "            path_interp = torch.linspace(0, 1, num_steps).view(-1, 1)\n",
    "            interp_instances = (1 - path_interp) * start_instance_tensor + path_interp * end_instance_tensor\n",
    "\n",
    "            # Compute model output at each interpolated point\n",
    "            outputs = self.model_interface(interp_instances)\n",
    "\n",
    "            # Sum the outputs to make it a scalar (assuming the model returns a tensor)\n",
    "            outputs_sum = torch.sum(outputs)\n",
    "\n",
    "            # Compute gradients at each interpolated point\n",
    "            gradients = torch.autograd.grad(outputs_sum, interp_instances, retain_graph=True)[0]\n",
    "\n",
    "            # Clip gradients to a reasonable range\n",
    "            #gradients = torch.clamp(gradients, min=-1.0, max=1.0)\n",
    "            # Integrate gradients along the path\n",
    "            integrated_gradients += torch.sum(gradients, dim=0)/len(gradients)*(end_instance_tensor - start_instance_tensor)\n",
    "\n",
    "        return integrated_gradients\n",
    "    \n",
    "    def compute_blur_integrated_gradients(self, instances_list, num_steps=100, blur_sigma=0.15):\n",
    "        integrated_gradients = torch.zeros_like(torch.tensor(instances_list[0]))  # Convert to PyTorch tensor\n",
    "\n",
    "        for i in range(len(instances_list) - 1):\n",
    "            start_instance_tensor = torch.tensor(instances_list[i], dtype=torch.float32, requires_grad=True)\n",
    "            end_instance_tensor = torch.tensor(instances_list[i + 1], dtype=torch.float32, requires_grad=True)\n",
    "\n",
    "            # Linear interpolation between start and end instances\n",
    "            path_interp = torch.linspace(0, 1, num_steps).view(-1, 1)\n",
    "            interp_instances = (1 - path_interp) * start_instance_tensor + path_interp * end_instance_tensor\n",
    "\n",
    "            # Compute model output at each interpolated point\n",
    "            outputs = self.model_interface(interp_instances)\n",
    "\n",
    "            # Sum the outputs to make it a scalar (assuming the model returns a tensor)\n",
    "            outputs_sum = torch.sum(outputs)\n",
    "\n",
    "            # Compute gradients at each interpolated point\n",
    "            gradients = torch.autograd.grad(outputs_sum, interp_instances, retain_graph=True)[0]\n",
    "\n",
    "            # Apply blur to gradients\n",
    "            blurred_gradients = self.apply_blur(gradients, sigma=blur_sigma)\n",
    "\n",
    "            # Integrate blurred gradients along the path\n",
    "            integrated_gradients += torch.sum(blurred_gradients, dim=0) / len(blurred_gradients) * (\n",
    "                    end_instance_tensor - start_instance_tensor)\n",
    "\n",
    "        return integrated_gradients\n",
    "    \n",
    "    def apply_blur(gradients, sigma=0.15):\n",
    "        # Apply blur to gradients\n",
    "        blurred_gradients = torch.nn.functional.gaussian_blur(gradients, kernel_size=1, sigma=sigma)\n",
    "\n",
    "        return blurred_gradients\n",
    "    def generate_counterfactuals(self, query_instance, feature_mask=None ,time_constant_index=None, time_constant_diff=None, ts_dist_weight=0.5, reconstruction_weight=1, proba_weight=1, optimizer=None, target_prob_threshold=None, lr=0.01, max_iter=1000):\n",
    "        query_instance = torch.FloatTensor(query_instance)\n",
    "        num_features = len(query_instance)\n",
    "        cf_initialize = query_instance.clone().detach()  # Start with the query instance\n",
    "        cf_instances_list = []\n",
    "        integrated_gradients = torch.zeros_like(cf_initialize)\n",
    "        \n",
    "        if feature_mask is None:\n",
    "            feature_mask = torch.ones(num_features)\n",
    "        else:\n",
    "            feature_mask = torch.FloatTensor(feature_mask)\n",
    "\n",
    "        if optimizer == \"adam\":\n",
    "            optimizer = torch.optim.Adam([cf_initialize], lr, betas=(0.9, 0.999))  # Adjust beta1 and beta2 as needed\n",
    "        else:\n",
    "            optimizer = torch.optim.SGD([cf_initialize], lr, momentum=0.9)  # Adjust the momentum parameter as needed\n",
    "        \n",
    "        if target_prob_threshold == None:\n",
    "            if self.model_interface(query_instance) >= 0.5: \n",
    "                target_prob_threshold = 0.05  # Set the desired threshold\n",
    "            else:\n",
    "                target_prob_threshold = 0.95\n",
    "         \n",
    "        target_class_prob = torch.FloatTensor([target_prob_threshold])\n",
    "\n",
    "        self.vae.eval()\n",
    "\n",
    "        for i in range(max_iter):\n",
    "            cf_initialize.requires_grad = True\n",
    "            optimizer.zero_grad()\n",
    "            cf_prob = self.model_interface(cf_initialize)\n",
    "    \n",
    "    # Pass cf_initialize through the VAE to get reconstructed_x, mu, and logvar\n",
    "            reconstructed_x, mu, logvar = self.vae(cf_initialize)\n",
    "            \n",
    "    # Calculate the loss\n",
    "            vae_reconstruction_loss = self.vae_loss(query_instance, reconstructed_x, mu, logvar)\n",
    "            loss = self.opposing_class_constraint(cf_prob, target_class_prob, query_instance\n",
    "                                                  , ts_dist_weight, proba_weight, cf_initialize) + reconstruction_weight*vae_reconstruction_loss\n",
    "            loss.backward()\n",
    "            \n",
    "            optimizer.step()\n",
    "            cf_instances_list.append(cf_initialize.clone().detach().numpy())\n",
    "            # Convert cf_instances_list to PyTorch tensor\n",
    "        # Compute the absolute difference vector\n",
    "        diff_vector = reconstructed_x\n",
    "\n",
    "    # Run integrated gradients for perturbed_plus\n",
    "        perturbed_plus = cf_initialize + torch.abs(diff_vector)\n",
    "        explanation_plus = self.compute_integrated_gradients_uncertainty([cf_initialize, perturbed_plus])\n",
    "\n",
    "    # Run integrated gradients for perturbed_minus\n",
    "        perturbed_minus = cf_initialize - torch.abs(diff_vector)\n",
    "        explanation_minus = self.compute_integrated_gradients_uncertainty([cf_initialize, perturbed_minus])\n",
    "\n",
    "        integrated_gradients = self.compute_integrated_gradients_interpolation(cf_instances_list)\n",
    "        return cf_initialize, integrated_gradients, explanation_plus, explanation_minus, cf_instances_list\n",
    "    \n",
    "    \n",
    "    def exepcted_attribution(self, query_instance, p=1, **kwargs):\n",
    "        \"\"\"\n",
    "        Perform iterative counterfactual generation and calculate the mean feature attribution.\n",
    "\n",
    "        Parameters:\n",
    "        - query_instance: The input instance for which counterfactuals are generated.\n",
    "        - p: The number of iterations.\n",
    "        - **kwargs: Additional arguments to pass to the generate_counterfactuals method.\n",
    "\n",
    "        Returns:\n",
    "        - mean_attributions: The mean feature attributions over p iterations.\n",
    "        \"\"\"\n",
    "        attributions_sum = torch.zeros_like(torch.tensor(query_instance), dtype=torch.float32)\n",
    "\n",
    "        for _ in range(p):\n",
    "            _, attributions, _, _, _ = self.generate_counterfactuals(query_instance, **kwargs)\n",
    "            attributions_sum += attributions\n",
    "\n",
    "        mean_attributions = attributions_sum / p\n",
    "\n",
    "        return mean_attributions\n",
    "    \n",
    "    def plot_explanations(self, integrated_gradients, explanation_plus, explanation_minus, feature_names=None):\n",
    "        num_features = len(integrated_gradients)\n",
    "        feature_indices = np.arange(num_features)\n",
    "\n",
    "    # Plot main integrated gradients\n",
    "        plt.bar(feature_indices, integrated_gradients.detach().numpy(), label='Integrated Path Attribution', color='grey', alpha=1)\n",
    "        center_positions = feature_indices + integrated_gradients.detach().numpy()\n",
    "    # Plot uncertainty bars\n",
    "        plt.bar(\n",
    "            center_positions,\n",
    "            explanation_plus.detach().numpy(),\n",
    "            bottom=integrated_gradients.detach().numpy(),\n",
    "            color='blue',\n",
    "            label='Uncertainty (+ε)',\n",
    "            alpha=1\n",
    "        )\n",
    "        plt.bar(\n",
    "            center_positions,\n",
    "            explanation_minus.detach().numpy(),\n",
    "            bottom=integrated_gradients.detach().numpy(),\n",
    "            color='red',\n",
    "            label='Uncertainty (-ε)',\n",
    "            alpha=1\n",
    "        )\n",
    "        plt.xticks(ticks=feature_indices, labels=feature_names, rotation='vertical')\n",
    "        \n",
    "        plt.legend()\n",
    "        plt.xlabel('Feature Index')\n",
    "        plt.ylabel('Attribution Value')\n",
    "        plt.title('Path-Based Gradients with Uncertainty (ε)')\n",
    "        plt.show()\n",
    "\n",
    "    \n",
    "    def train_vae(self, query_instance, num_epochs):\n",
    "        self.vae.train()\n",
    "        for epoch in range(num_epochs):\n",
    "            instance = torch.FloatTensor(query_instance)\n",
    "            reconstructed_x, mu, logvar = self.vae(instance)\n",
    "            loss = self.vae_loss(instance, reconstructed_x, mu, logvar)\n",
    "            self.vae_optimizer.zero_grad()\n",
    "            loss.backward()\n",
    "            self.vae_optimizer.step()\n",
    "\n",
    "    def vae_loss(self, x, reconstructed_x, mu, logvar):\n",
    "        # Calculate the VAE loss (reconstruction loss + KL divergence)\n",
    "        reconstruction_loss = nn.MSELoss()(reconstructed_x, x)  # Change the loss function for non-binary data\n",
    "        kl_divergence = -0.5 * torch.sum(1 + logvar - mu.pow(2) - logvar.exp())\n",
    "        return reconstruction_loss + kl_divergence\n",
    "    \n",
    "    def reconstruction_loss(self, x, reconstructed_x):\n",
    "        # Calculate the VAE loss (reconstruction loss + KL divergence)\n",
    "        reconstruction_loss = nn.MSELoss()(reconstructed_x, x)  # Change the loss function for non-binary data\n",
    "        #kl_divergence = -0.5 * torch.sum(1 + logvar - mu.pow(2) - logvar.exp())\n",
    "        return reconstruction_loss \n",
    "\n",
    "    \n",
    "    def opposing_class_constraint(self, cf_prob, target_class_prob, query_instance, ts_dist_weight, proba_weight, cf_initialize):\n",
    "    # Calculate a loss to ensure that the generated instance belongs to the opposing class and; \n",
    "    # the distance between query instance and the counterfactual is minimal\n",
    "\n",
    "        cf_prob = F.sigmoid(cf_prob)\n",
    "\n",
    "        target_class_loss = F.mse_loss(cf_prob, target_class_prob)\n",
    "   \n",
    "        distances = np.sum(np.linalg.norm(query_instance.detach().numpy() - cf_initialize.detach().numpy(), axis=1))\n",
    "\n",
    "        # Define the distance decay rate - latter points in time have a greater weighting\n",
    "        #alpha = 0.1 + 0.1 * np.arange(len(query_instances.detach().numpy()))\n",
    "\n",
    "        # Apply the exponential kernel to assign weights\n",
    "        #weights = np.exp(-alpha * distances)\n",
    "\n",
    "        # Normalize the weights (optional)\n",
    "        #normalized_weights = weights / np.sum(weights)\n",
    "\n",
    "        # Compute the weighted result\n",
    "        #weighted_distance_list = np.dot(normalized_weights, query_instances.detach().numpy())\n",
    "        #weighted_distance = np.sum(weighted_distance_list)\n",
    "        return proba_weight*target_class_loss + ts_dist_weight*distances\n",
    "        \n",
    "        "
   ]
  },
  {
   "cell_type": "code",
   "execution_count": 279,
   "metadata": {},
   "outputs": [],
   "source": [
    "def integrated_gradients_attribution(model, target, num_steps=1000):\n",
    "    integrated_gradients = torch.zeros_like(torch.tensor(target))  # Convert to PyTorch tensor\n",
    "    baseline = torch.zeros_like(torch.tensor(target))\n",
    "    start_instance_tensor = torch.tensor(baseline, dtype=torch.float32, requires_grad=True)\n",
    "    end_instance_tensor = torch.tensor(target, dtype=torch.float32, requires_grad=True)\n",
    "\n",
    "            # Linear interpolation between start and end instances\n",
    "    path_interp = torch.linspace(0, 1, num_steps).view(-1, 1)\n",
    "    interp_instances = (1 - path_interp) * start_instance_tensor + path_interp * end_instance_tensor\n",
    "               # Compute model output at each interpolated point\n",
    "    outputs = model(interp_instances)\n",
    "\n",
    "            # Sum the outputs to make it a scalar (assuming the model returns a tensor)\n",
    "    outputs_sum = torch.sum(outputs)\n",
    "\n",
    "            # Compute gradients at each interpolated point\n",
    "    gradients = torch.autograd.grad(outputs_sum, interp_instances, retain_graph=True)[0]\n",
    "\n",
    "            # Clip gradients to a reasonable range\n",
    "            #gradients = torch.clamp(gradients, min=-1.0, max=1.0)\n",
    "            # Integrate gradients along the path\n",
    "    integrated_gradients += torch.sum(gradients, dim=0)\n",
    "    \n",
    "    integrated_gradients = integrated_gradients/len(gradients)\n",
    "\n",
    "    return integrated_gradients*(end_instance_tensor - start_instance_tensor)"
   ]
  },
  {
   "cell_type": "code",
   "execution_count": 280,
   "metadata": {},
   "outputs": [],
   "source": [
    "def individual_agi_sigmoid(model, x, epsilon=0.01, max_steps=1000):\n",
    "    model.eval()\n",
    "    x.requires_grad = True\n",
    "\n",
    "    agi_path = [x.clone().detach()]\n",
    "    j = 0\n",
    "\n",
    "    while torch.sigmoid(model(x)) >= 0.5 and j < max_steps:\n",
    "        # Compute the gradient of the sigmoid output\n",
    "        grad_sigmoid = torch.autograd.grad(torch.sigmoid(model(x)), x)[0]\n",
    "\n",
    "        # Adversarial direction\n",
    "        adv_direction = epsilon * torch.sign(grad_sigmoid)\n",
    "\n",
    "        # Update AGI\n",
    "        x = x - adv_direction\n",
    "        new_x = x \n",
    "\n",
    "        # Append the current value of x to the path\n",
    "        agi_path.append(x.clone().detach())\n",
    "\n",
    "        j += 1\n",
    "\n",
    "    return agi_path, new_x"
   ]
  },
  {
   "cell_type": "code",
   "execution_count": 281,
   "metadata": {},
   "outputs": [],
   "source": [
    "import numpy as np\n",
    "import pandas as pd\n",
    "import torch\n",
    "import torch.nn as nn\n",
    "from torch.autograd import grad\n",
    "from sklearn.preprocessing import StandardScaler\n",
    "from sklearn import datasets\n",
    "from sklearn.preprocessing import LabelEncoder, OneHotEncoder\n",
    "from sklearn.experimental import enable_iterative_imputer\n",
    "from sklearn.impute import IterativeImputer\n",
    "from sklearn.model_selection import train_test_split\n",
    "from scipy.spatial import distance\n",
    "from sklearn.datasets import load_breast_cancer\n",
    "\n",
    "data = load_breast_cancer()\n",
    "X = data['data']\n",
    "y = data.target \n",
    "\n",
    "train_features, test_features, train_labels, test_labels = train_test_split(X, y, test_size=0.20, random_state=10)"
   ]
  },
  {
   "cell_type": "code",
   "execution_count": 282,
   "metadata": {},
   "outputs": [],
   "source": [
    "ft_names = data.feature_names"
   ]
  },
  {
   "cell_type": "code",
   "execution_count": 283,
   "metadata": {},
   "outputs": [],
   "source": [
    "scaler = StandardScaler()\n",
    "\n",
    "train_features = scaler.fit_transform(train_features)\n",
    "test_features = scaler.transform(test_features)\n",
    "\n",
    "train_features = train_features.astype(float)\n",
    "test_features = test_features.astype(float)\n"
   ]
  },
  {
   "cell_type": "code",
   "execution_count": 338,
   "metadata": {},
   "outputs": [],
   "source": [
    "torch.manual_seed(1)  # Set seed for reproducibility.\n",
    "n_input, n_hidden, n_out, batch_size, learning_rate = 30, 60, 1, 100, 0.01\n",
    "\n",
    "input_tensor = torch.from_numpy(train_features).type(torch.FloatTensor)\n",
    "label_tensor = torch.from_numpy(train_labels)\n",
    "test_input_tensor = torch.from_numpy(test_features).type(torch.FloatTensor)\n",
    "\n",
    "model = nn.Sequential(nn.Linear(n_input, n_hidden),\n",
    "                      nn.ReLU(),\n",
    "                      nn.Linear(n_hidden, n_out),\n",
    "                      nn.Sigmoid()\n",
    "                     )\n",
    "\n",
    "loss_function = nn.BCELoss() # nn.CrossEntropyLoss()\n",
    "optimizer = torch.optim.Adam(model.parameters(), lr=learning_rate)\n",
    "\n",
    "losses = []\n",
    "for epoch in range(5000):\n",
    "    pred_y = model(input_tensor.float())\n",
    "    loss = loss_function(torch.flatten(pred_y), label_tensor.to(torch.float32))\n",
    "    losses.append(loss.item())\n",
    "    model.zero_grad()\n",
    "    loss.backward()\n",
    "    optimizer.step()\n",
    "model = model.eval()  # Set the model to evaluation mode"
   ]
  },
  {
   "cell_type": "code",
   "execution_count": 340,
   "metadata": {},
   "outputs": [],
   "source": [
    "generator = QUCE(model, input_tensor, input_dim = input_tensor.shape[1], latent_dim=15)"
   ]
  },
  {
   "cell_type": "code",
   "execution_count": 344,
   "metadata": {},
   "outputs": [
    {
     "name": "stderr",
     "output_type": "stream",
     "text": [
      "C:\\Users\\Jamie\\AppData\\Local\\Temp\\ipykernel_15112\\826980763.py:297: UserWarning: Using a target size (torch.Size([1])) that is different to the input size (torch.Size([1, 1])). This will likely lead to incorrect results due to broadcasting. Please ensure they have the same size.\n",
      "  target_class_loss = F.mse_loss(cf_prob, target_class_prob)\n",
      "C:\\Users\\Jamie\\AppData\\Local\\Temp\\ipykernel_15112\\826980763.py:68: UserWarning: To copy construct from a tensor, it is recommended to use sourceTensor.clone().detach() or sourceTensor.clone().detach().requires_grad_(True), rather than torch.tensor(sourceTensor).\n",
      "  integrated_gradients = torch.zeros_like(torch.tensor(instances_list[0]))  # Convert to PyTorch tensor\n",
      "C:\\Users\\Jamie\\AppData\\Local\\Temp\\ipykernel_15112\\826980763.py:70: UserWarning: To copy construct from a tensor, it is recommended to use sourceTensor.clone().detach() or sourceTensor.clone().detach().requires_grad_(True), rather than torch.tensor(sourceTensor).\n",
      "  start_instance_tensor = torch.tensor(instances_list[0], dtype=torch.float32, requires_grad=True)\n",
      "C:\\Users\\Jamie\\AppData\\Local\\Temp\\ipykernel_15112\\826980763.py:71: UserWarning: To copy construct from a tensor, it is recommended to use sourceTensor.clone().detach() or sourceTensor.clone().detach().requires_grad_(True), rather than torch.tensor(sourceTensor).\n",
      "  end_instance_tensor = torch.tensor(instances_list[1], dtype=torch.float32, requires_grad=True)\n"
     ]
    }
   ],
   "source": [
    "generated_instance = generator.generate_counterfactuals(query_instance = test_input_tensor[0:1], ts_dist_weight=0.7, reconstruction_weight=1, proba_weight=1, lr=0.1, optimizer='adam', target_prob_threshold=None)"
   ]
  },
  {
   "cell_type": "code",
   "execution_count": 347,
   "metadata": {},
   "outputs": [
    {
     "data": {
      "text/plain": [
       "tensor([[2.0574e-24]], grad_fn=<SigmoidBackward0>)"
      ]
     },
     "execution_count": 347,
     "metadata": {},
     "output_type": "execute_result"
    }
   ],
   "source": [
    "model(test_input_tensor[0:1])"
   ]
  },
  {
   "cell_type": "code",
   "execution_count": 346,
   "metadata": {},
   "outputs": [
    {
     "data": {
      "text/plain": [
       "tensor([[1.]], grad_fn=<SigmoidBackward0>)"
      ]
     },
     "execution_count": 346,
     "metadata": {},
     "output_type": "execute_result"
    }
   ],
   "source": [
    "model(generated_instance[0])"
   ]
  },
  {
   "cell_type": "code",
   "execution_count": 348,
   "metadata": {
    "scrolled": true
   },
   "outputs": [
    {
     "data": {
      "image/png": "[encoded data removed]",
      "text/plain": [
       "<Figure size 640x480 with 1 Axes>"
      ]
     },
     "metadata": {},
     "output_type": "display_data"
    }
   ],
   "source": [
    "generator.plot_explanations(generated_instance[1][0], generated_instance[2][0], generated_instance[3][0], feature_names=ft_names)"
   ]
  },
  {
   "cell_type": "code",
   "execution_count": 288,
   "metadata": {},
   "outputs": [],
   "source": [
    "#other methods below "
   ]
  },
  {
   "cell_type": "code",
   "execution_count": 289,
   "metadata": {},
   "outputs": [],
   "source": [
    "import dice_ml\n",
    "from dice_ml import Dice"
   ]
  },
  {
   "cell_type": "code",
   "execution_count": 290,
   "metadata": {},
   "outputs": [],
   "source": [
    "train_features2, test_features2, train_labels2, test_labels2 = train_test_split(X, y, \n",
    "                                                                                  shuffle=False, train_size=0.80)   \n",
    "\n",
    "scaler = StandardScaler()\n",
    "\n",
    "train_features2 = scaler.fit_transform(train_features2)\n",
    "test_features2 = scaler.transform(test_features2)"
   ]
  },
  {
   "cell_type": "code",
   "execution_count": 291,
   "metadata": {},
   "outputs": [],
   "source": [
    "data_for_dice = pd.DataFrame(data=train_features2, columns=ft_names)\n",
    "data_for_dice_test = pd.DataFrame(data=test_features2, columns=ft_names)\n",
    "# Add the \"Malignancy\" column to the DataFrame using train_labels2\n",
    "data_for_dice['Malignancy'] = train_labels2\n",
    "data_for_dice_test['Malignancy'] = test_labels2"
   ]
  },
  {
   "cell_type": "code",
   "execution_count": 292,
   "metadata": {},
   "outputs": [],
   "source": [
    "train_features2 = pd.DataFrame(train_features2, columns=ft_names)"
   ]
  },
  {
   "cell_type": "code",
   "execution_count": 293,
   "metadata": {},
   "outputs": [],
   "source": [
    "test_features2 = pd.DataFrame(test_features2, columns=ft_names)"
   ]
  },
  {
   "cell_type": "code",
   "execution_count": 303,
   "metadata": {},
   "outputs": [],
   "source": [
    "d = dice_ml.Data(dataframe=data_for_dice.astype(float),\n",
    "                 continuous_features=list(ft_names),\n",
    "                 outcome_name='Malignancy')\n",
    "dt = dice_ml.Data(dataframe=data_for_dice_test.astype(float),\n",
    "                 continuous_features=list(ft_names),\n",
    "                 outcome_name='Malignancy')\n",
    "# Pre-trained ML model\n",
    "m = dice_ml.Model(model=model, backend=\"PYT\", model_type='classifier')\n",
    "\n",
    "exp = dice_ml.Dice(d,m, method='random')\n",
    "query_instance = data_for_dice.drop(columns=\"Malignancy\")\n",
    "\n",
    "exp_test = dice_ml.Dice(dt,m, method='random')\n",
    "query_instance_test = data_for_dice_test.drop(columns=\"Malignancy\")"
   ]
  },
  {
   "cell_type": "code",
   "execution_count": 304,
   "metadata": {},
   "outputs": [],
   "source": [
    "def convert_tensors_to_values(df):\n",
    "    \"\"\"\n",
    "    Convert PyTorch tensors in a DataFrame to numerical values.\n",
    "\n",
    "    Args:\n",
    "    - df: Pandas DataFrame with columns containing PyTorch tensors\n",
    "\n",
    "    Returns:\n",
    "    - df: Pandas DataFrame with tensors replaced by numerical values\n",
    "    \"\"\"\n",
    "    for col in df.columns:\n",
    "        df[col] = df[col].apply(lambda x: x.item() if torch.is_tensor(x) else x)\n",
    "    return df"
   ]
  },
  {
   "cell_type": "code",
   "execution_count": 305,
   "metadata": {},
   "outputs": [
    {
     "name": "stderr",
     "output_type": "stream",
     "text": [
      "100%|██████████| 100/100 [01:51<00:00,  1.11s/it]\n"
     ]
    }
   ],
   "source": [
    "gen = exp.generate_counterfactuals(query_instance[0:100], total_CFs=1, desired_class='opposite')"
   ]
  },
  {
   "cell_type": "code",
   "execution_count": 306,
   "metadata": {},
   "outputs": [
    {
     "name": "stderr",
     "output_type": "stream",
     "text": [
      "100%|██████████| 100/100 [02:13<00:00,  1.34s/it]\n"
     ]
    }
   ],
   "source": [
    "gen_test = exp.generate_counterfactuals(query_instance_test[0:100], total_CFs=1, desired_class='opposite')"
   ]
  },
  {
   "cell_type": "markdown",
   "metadata": {},
   "source": [
    "## Counterfactual Uncertainty Measurements"
   ]
  },
  {
   "cell_type": "markdown",
   "metadata": {},
   "source": [
    "### QUCE"
   ]
  },
  {
   "cell_type": "markdown",
   "metadata": {},
   "source": [
    "### Train"
   ]
  },
  {
   "cell_type": "code",
   "execution_count": 355,
   "metadata": {},
   "outputs": [
    {
     "name": "stderr",
     "output_type": "stream",
     "text": [
      "C:\\Users\\Jamie\\AppData\\Local\\Temp\\ipykernel_15112\\826980763.py:297: UserWarning: Using a target size (torch.Size([1])) that is different to the input size (torch.Size([1, 1])). This will likely lead to incorrect results due to broadcasting. Please ensure they have the same size.\n",
      "  target_class_loss = F.mse_loss(cf_prob, target_class_prob)\n",
      "C:\\Users\\Jamie\\AppData\\Local\\Temp\\ipykernel_15112\\826980763.py:68: UserWarning: To copy construct from a tensor, it is recommended to use sourceTensor.clone().detach() or sourceTensor.clone().detach().requires_grad_(True), rather than torch.tensor(sourceTensor).\n",
      "  integrated_gradients = torch.zeros_like(torch.tensor(instances_list[0]))  # Convert to PyTorch tensor\n",
      "C:\\Users\\Jamie\\AppData\\Local\\Temp\\ipykernel_15112\\826980763.py:70: UserWarning: To copy construct from a tensor, it is recommended to use sourceTensor.clone().detach() or sourceTensor.clone().detach().requires_grad_(True), rather than torch.tensor(sourceTensor).\n",
      "  start_instance_tensor = torch.tensor(instances_list[0], dtype=torch.float32, requires_grad=True)\n",
      "C:\\Users\\Jamie\\AppData\\Local\\Temp\\ipykernel_15112\\826980763.py:71: UserWarning: To copy construct from a tensor, it is recommended to use sourceTensor.clone().detach() or sourceTensor.clone().detach().requires_grad_(True), rather than torch.tensor(sourceTensor).\n",
      "  end_instance_tensor = torch.tensor(instances_list[1], dtype=torch.float32, requires_grad=True)\n"
     ]
    }
   ],
   "source": [
    "num_instances = 100\n",
    "sum_values = 0\n",
    "vae_error = 0\n",
    "for i in range(num_instances):\n",
    "    # Assuming test_input_tensor[i:i+1] is your input tensor\n",
    "    example_tensor_quce = input_tensor[i:i+1]\n",
    "    \n",
    "    # Generate counterfactual using the generator\n",
    "    counterfactual_result = generator.generate_counterfactuals(\n",
    "        query_instance=example_tensor_quce,\n",
    "        ts_dist_weight=0.7,\n",
    "        reconstruction_weight=1,\n",
    "        proba_weight=1,\n",
    "        lr=0.01,\n",
    "        optimizer='adam',\n",
    "        target_prob_threshold=None\n",
    "    )[0][0]\n",
    "\n",
    "    # Extract relevant information (adjust based on the structure of the result)\n",
    "    reconstructed_tensor, mu, logvar = generator.vae(counterfactual_result)\n",
    "    vae_error += generator.vae_loss(counterfactual_result, reconstructed_tensor, mu, logvar)\n",
    "    # Sum the values\n",
    "    sum_values += np.mean((np.abs(reconstructed_tensor.detach().numpy() - counterfactual_result.detach().numpy())))\n",
    "    \n",
    "average_values_QUCE = sum_values/num_instances\n",
    "average_error_QUCE = vae_error/num_instances"
   ]
  },
  {
   "cell_type": "code",
   "execution_count": 356,
   "metadata": {},
   "outputs": [
    {
     "data": {
      "text/plain": [
       "0.7333594852685928"
      ]
     },
     "execution_count": 356,
     "metadata": {},
     "output_type": "execute_result"
    }
   ],
   "source": [
    "average_values_QUCE"
   ]
  },
  {
   "cell_type": "code",
   "execution_count": 357,
   "metadata": {},
   "outputs": [
    {
     "data": {
      "text/plain": [
       "tensor(0.9296, grad_fn=<DivBackward0>)"
      ]
     },
     "execution_count": 357,
     "metadata": {},
     "output_type": "execute_result"
    }
   ],
   "source": [
    "average_error_QUCE"
   ]
  },
  {
   "cell_type": "markdown",
   "metadata": {},
   "source": [
    "### Test"
   ]
  },
  {
   "cell_type": "code",
   "execution_count": 400,
   "metadata": {},
   "outputs": [
    {
     "name": "stderr",
     "output_type": "stream",
     "text": [
      "C:\\Users\\Jamie\\AppData\\Local\\Temp\\ipykernel_15112\\826980763.py:297: UserWarning: Using a target size (torch.Size([1])) that is different to the input size (torch.Size([1, 1])). This will likely lead to incorrect results due to broadcasting. Please ensure they have the same size.\n",
      "  target_class_loss = F.mse_loss(cf_prob, target_class_prob)\n",
      "C:\\Users\\Jamie\\AppData\\Local\\Temp\\ipykernel_15112\\826980763.py:68: UserWarning: To copy construct from a tensor, it is recommended to use sourceTensor.clone().detach() or sourceTensor.clone().detach().requires_grad_(True), rather than torch.tensor(sourceTensor).\n",
      "  integrated_gradients = torch.zeros_like(torch.tensor(instances_list[0]))  # Convert to PyTorch tensor\n",
      "C:\\Users\\Jamie\\AppData\\Local\\Temp\\ipykernel_15112\\826980763.py:70: UserWarning: To copy construct from a tensor, it is recommended to use sourceTensor.clone().detach() or sourceTensor.clone().detach().requires_grad_(True), rather than torch.tensor(sourceTensor).\n",
      "  start_instance_tensor = torch.tensor(instances_list[0], dtype=torch.float32, requires_grad=True)\n",
      "C:\\Users\\Jamie\\AppData\\Local\\Temp\\ipykernel_15112\\826980763.py:71: UserWarning: To copy construct from a tensor, it is recommended to use sourceTensor.clone().detach() or sourceTensor.clone().detach().requires_grad_(True), rather than torch.tensor(sourceTensor).\n",
      "  end_instance_tensor = torch.tensor(instances_list[1], dtype=torch.float32, requires_grad=True)\n"
     ]
    }
   ],
   "source": [
    "num_instances = 100\n",
    "sum_values = 0\n",
    "vae_error = 0 \n",
    "for i in range(num_instances):\n",
    "    # Assuming test_input_tensor[i:i+1] is your input tensor\n",
    "    example_tensor_quce = test_input_tensor[i:i+1]\n",
    "    \n",
    "    # Generate counterfactual using the generator\n",
    "    counterfactual_result = generator.generate_counterfactuals(\n",
    "        query_instance=example_tensor_quce,\n",
    "        ts_dist_weight=0.7,\n",
    "        reconstruction_weight=1,\n",
    "        proba_weight=1,\n",
    "        lr=0.01,\n",
    "        optimizer='adam',\n",
    "        target_prob_threshold=None\n",
    "    )[0][0]\n",
    "\n",
    "    # Extract relevant information (adjust based on the structure of the result)\n",
    "    reconstructed_tensor, mu, logvar = generator.vae(counterfactual_result)\n",
    "    vae_error += generator.vae_loss(counterfactual_result, reconstructed_tensor, mu, logvar)\n",
    "    # Sum the values\n",
    "    sum_values += np.mean((np.abs(reconstructed_tensor.detach().numpy() - counterfactual_result.detach().numpy())))\n",
    "    \n",
    "average_values_QUCE = sum_values/num_instances\n",
    "average_error_QUCE = vae_error/num_instances"
   ]
  },
  {
   "cell_type": "code",
   "execution_count": 401,
   "metadata": {},
   "outputs": [
    {
     "data": {
      "text/plain": [
       "0.7647446596622467"
      ]
     },
     "execution_count": 401,
     "metadata": {},
     "output_type": "execute_result"
    }
   ],
   "source": [
    "average_values_QUCE"
   ]
  },
  {
   "cell_type": "code",
   "execution_count": 402,
   "metadata": {},
   "outputs": [
    {
     "data": {
      "text/plain": [
       "tensor(1.0755, grad_fn=<DivBackward0>)"
      ]
     },
     "execution_count": 402,
     "metadata": {},
     "output_type": "execute_result"
    }
   ],
   "source": [
    "average_error_QUCE"
   ]
  },
  {
   "cell_type": "markdown",
   "metadata": {},
   "source": [
    "### DiCE"
   ]
  },
  {
   "cell_type": "markdown",
   "metadata": {},
   "source": [
    "### Train"
   ]
  },
  {
   "cell_type": "code",
   "execution_count": 385,
   "metadata": {},
   "outputs": [],
   "source": [
    "num_instances = 100\n",
    "sum_values = 0\n",
    "vae_error = 0 \n",
    "for i in range(num_instances):\n",
    "    # Assuming gen.cf_examples_list[i] is your example\n",
    "    example_tensor_dice = torch.tensor(gen.cf_examples_list[i].final_cfs_df.iloc[0][:-1], dtype=torch.float)\n",
    "    reconstructed_tensor, mu, logvar = generator.vae(example_tensor_dice)\n",
    "    vae_error += generator.vae_loss(example_tensor_dice, reconstructed_tensor, mu, logvar)\n",
    "\n",
    "    # Sum the values\n",
    "    sum_values += np.mean(np.abs(reconstructed_tensor.detach().numpy() - np.array(gen.cf_examples_list[i].final_cfs_df.iloc[0][:-1])))\n",
    "    \n",
    "# Average the values\n",
    "average_values = sum_values / num_instances\n",
    "average_error_DiCE = vae_error/num_instances\n"
   ]
  },
  {
   "cell_type": "code",
   "execution_count": 386,
   "metadata": {},
   "outputs": [
    {
     "data": {
      "text/plain": [
       "1.0369083190410773"
      ]
     },
     "execution_count": 386,
     "metadata": {},
     "output_type": "execute_result"
    }
   ],
   "source": [
    "average_values"
   ]
  },
  {
   "cell_type": "code",
   "execution_count": 387,
   "metadata": {},
   "outputs": [
    {
     "data": {
      "text/plain": [
       "tensor(3.6266, grad_fn=<DivBackward0>)"
      ]
     },
     "execution_count": 387,
     "metadata": {},
     "output_type": "execute_result"
    }
   ],
   "source": [
    "average_error_DiCE"
   ]
  },
  {
   "cell_type": "markdown",
   "metadata": {},
   "source": [
    "### Test"
   ]
  },
  {
   "cell_type": "code",
   "execution_count": 388,
   "metadata": {},
   "outputs": [],
   "source": [
    "num_instances = 100\n",
    "sum_values = 0\n",
    "vae_error = 0 \n",
    "for i in range(num_instances):\n",
    "    # Assuming gen.cf_examples_list[i] is your example\n",
    "    example_tensor_dice = torch.tensor(gen_test.cf_examples_list[i].final_cfs_df.iloc[0][:-1], dtype=torch.float)\n",
    " \n",
    "    reconstructed_tensor, mu, logvar = generator.vae(example_tensor_dice)\n",
    "    vae_error += generator.vae_loss(example_tensor_dice, reconstructed_tensor, mu, logvar)\n",
    "\n",
    "    # Sum the values\n",
    "    sum_values += np.mean(np.abs(reconstructed_tensor.detach().numpy() - np.array(gen.cf_examples_list[i].final_cfs_df.iloc[0][:-1])))\n",
    "    \n",
    "# Average the values\n",
    "average_values = sum_values / num_instances\n",
    "average_error_DiCE = vae_error/num_instances"
   ]
  },
  {
   "cell_type": "code",
   "execution_count": 389,
   "metadata": {},
   "outputs": [
    {
     "data": {
      "text/plain": [
       "1.0390261217396501"
      ]
     },
     "execution_count": 389,
     "metadata": {},
     "output_type": "execute_result"
    }
   ],
   "source": [
    "average_values"
   ]
  },
  {
   "cell_type": "code",
   "execution_count": 390,
   "metadata": {},
   "outputs": [
    {
     "data": {
      "text/plain": [
       "tensor(2.9992, grad_fn=<DivBackward0>)"
      ]
     },
     "execution_count": 390,
     "metadata": {},
     "output_type": "execute_result"
    }
   ],
   "source": [
    "average_error_DiCE"
   ]
  },
  {
   "cell_type": "markdown",
   "metadata": {},
   "source": [
    "### AGI"
   ]
  },
  {
   "cell_type": "markdown",
   "metadata": {},
   "source": [
    "### Train"
   ]
  },
  {
   "cell_type": "code",
   "execution_count": 391,
   "metadata": {},
   "outputs": [
    {
     "name": "stderr",
     "output_type": "stream",
     "text": [
      "C:\\Users\\Jamie\\anaconda3\\envs\\temporal-project-env\\Lib\\site-packages\\torch\\nn\\modules\\loss.py:535: UserWarning: Using a target size (torch.Size([30])) that is different to the input size (torch.Size([1, 30])). This will likely lead to incorrect results due to broadcasting. Please ensure they have the same size.\n",
      "  return F.mse_loss(input, target, reduction=self.reduction)\n"
     ]
    },
    {
     "data": {
      "text/plain": [
       "0.795204091668129"
      ]
     },
     "execution_count": 391,
     "metadata": {},
     "output_type": "execute_result"
    }
   ],
   "source": [
    "num_instances = 100\n",
    "sum_values = 0\n",
    "vae_error = 0 \n",
    "\n",
    "for i in range(num_instances):\n",
    "    example_tensor1 = individual_agi_sigmoid(model, input_tensor[i])[1]\n",
    "    reconstructed_tensor, mu, logvar = generator.vae(example_tensor1)\n",
    "    vae_error += generator.vae_loss(example_tensor1, reconstructed_tensor, mu, logvar)\n",
    "    sum_values += np.mean(np.abs(reconstructed_tensor.detach().numpy() - example_tensor1.detach().numpy()))\n",
    "\n",
    "# Average the values\n",
    "average_values = sum_values / num_instances\n",
    "average_error_AGI = vae_error/num_instances\n"
   ]
  },
  {
   "cell_type": "code",
   "execution_count": 392,
   "metadata": {},
   "outputs": [
    {
     "data": {
      "text/plain": [
       "0.795204091668129"
      ]
     },
     "execution_count": 392,
     "metadata": {},
     "output_type": "execute_result"
    }
   ],
   "source": [
    "average_values"
   ]
  },
  {
   "cell_type": "code",
   "execution_count": 393,
   "metadata": {},
   "outputs": [
    {
     "data": {
      "text/plain": [
       "tensor(1.2210, grad_fn=<DivBackward0>)"
      ]
     },
     "execution_count": 393,
     "metadata": {},
     "output_type": "execute_result"
    }
   ],
   "source": [
    "average_error_AGI"
   ]
  },
  {
   "cell_type": "markdown",
   "metadata": {},
   "source": [
    "### Test"
   ]
  },
  {
   "cell_type": "code",
   "execution_count": 397,
   "metadata": {},
   "outputs": [],
   "source": [
    "num_instances = 100\n",
    "sum_values = 0\n",
    "vae_error = 0 \n",
    "for i in range(num_instances):\n",
    "    example_tensor1 = individual_agi_sigmoid(model, test_input_tensor[i])[1]\n",
    "    reconstructed_tensor, mu, logvar = generator.vae(example_tensor1)\n",
    "    vae_error += generator.vae_loss(example_tensor1, reconstructed_tensor, mu, logvar)\n",
    "    sum_values += np.mean(np.abs(reconstructed_tensor.detach().numpy() - example_tensor1.detach().numpy()))\n",
    "\n",
    "# Average the values\n",
    "average_values = sum_values / num_instances\n",
    "average_error_AGI = vae_error/num_instances\n"
   ]
  },
  {
   "cell_type": "code",
   "execution_count": 398,
   "metadata": {},
   "outputs": [
    {
     "data": {
      "text/plain": [
       "0.8021301743388176"
      ]
     },
     "execution_count": 398,
     "metadata": {},
     "output_type": "execute_result"
    }
   ],
   "source": [
    "average_values"
   ]
  },
  {
   "cell_type": "code",
   "execution_count": 399,
   "metadata": {},
   "outputs": [
    {
     "data": {
      "text/plain": [
       "tensor(1.4125, grad_fn=<DivBackward0>)"
      ]
     },
     "execution_count": 399,
     "metadata": {},
     "output_type": "execute_result"
    }
   ],
   "source": [
    "average_error_AGI"
   ]
  },
  {
   "cell_type": "markdown",
   "metadata": {},
   "source": [
    "# Insertion Scores "
   ]
  },
  {
   "cell_type": "code",
   "execution_count": null,
   "metadata": {},
   "outputs": [],
   "source": [
    "def iterative_feature_addition_with_auc_ordered(model, input_tensor, attribution_tensor, top_k=1):\n",
    "    model.eval()\n",
    "\n",
    "    num_features = input_tensor.size(1)\n",
    "    prob_values = []\n",
    "\n",
    "    baseline_tensor = torch.zeros_like(input_tensor)\n",
    "\n",
    "    # Get the indices of features in descending order of importance\n",
    "    _, sorted_indices = torch.sort(attribution_tensor, descending=True)\n",
    "\n",
    "    total_prob_change = 0.0  # Initialize the cumulative change in probabilities\n",
    "\n",
    "    for i in range(top_k):\n",
    "        # Add features in order of importance\n",
    "        baseline_tensor[:, sorted_indices[i]] = input_tensor[:, sorted_indices[i]]\n",
    "\n",
    "        # Calculate prediction probability\n",
    "        with torch.no_grad():\n",
    "            output = model(baseline_tensor)\n",
    "            prob = torch.sigmoid(output).item()\n",
    "\n",
    "        if i > 0:\n",
    "            prob_change = prob - prob_values[i - 1]\n",
    "            total_prob_change += prob_change  # Accumulate the change in probabilities\n",
    "        else:\n",
    "            total_prob_change += prob\n",
    "\n",
    "        prob_values.append(prob)\n",
    "\n",
    "    # Calculate AUC for the cumulative change in probability\n",
    "    auc_value = total_prob_change / top_k\n",
    "\n",
    "    return auc_value"
   ]
  },
  {
   "cell_type": "code",
   "execution_count": null,
   "metadata": {},
   "outputs": [],
   "source": [
    "def iterative_feature_deletion_with_auc_ordered(model, input_tensor, attribution_tensor, top_k=1):\n",
    "    model.eval()\n",
    "\n",
    "    num_features = input_tensor.size(1)\n",
    "    prob_values = []\n",
    "\n",
    "    baseline_tensor = input_tensor.clone()\n",
    "\n",
    "    # Get the indices of features in descending order of importance\n",
    "    _, sorted_indices = torch.sort(attribution_tensor, descending=True)\n",
    "\n",
    "    total_prob_change = 0.0  # Initialize the cumulative change in probabilities\n",
    "\n",
    "    for i in range(top_k):\n",
    "        # Drop features in order of importance\n",
    "        baseline_tensor[:, sorted_indices[i]] = 0\n",
    "\n",
    "        # Calculate prediction probability\n",
    "        with torch.no_grad():\n",
    "            output = model(baseline_tensor)\n",
    "            prob = torch.sigmoid(output).item()\n",
    "\n",
    "        if i > 0:\n",
    "            prob_change = prob - prob_values[i - 1]\n",
    "            total_prob_change += prob_change  # Accumulate the change in probabilities\n",
    "        else:\n",
    "            total_prob_change += prob\n",
    "\n",
    "        prob_values.append(prob)\n",
    "\n",
    "    # Calculate AUC for the cumulative change in probability\n",
    "    auc_value = total_prob_change / top_k\n",
    "\n",
    "    return auc_value"
   ]
  },
  {
   "cell_type": "code",
   "execution_count": null,
   "metadata": {},
   "outputs": [],
   "source": []
  },
  {
   "cell_type": "code",
   "execution_count": null,
   "metadata": {},
   "outputs": [],
   "source": []
  },
  {
   "cell_type": "code",
   "execution_count": null,
   "metadata": {},
   "outputs": [],
   "source": []
  },
  {
   "cell_type": "code",
   "execution_count": null,
   "metadata": {},
   "outputs": [],
   "source": []
  },
  {
   "cell_type": "markdown",
   "metadata": {},
   "source": [
    "# Path Based Integrated Gradients Methods for Uncertainty Measurements"
   ]
  },
  {
   "cell_type": "code",
   "execution_count": null,
   "metadata": {},
   "outputs": [],
   "source": [
    "def compute_integrated_gradients_interpolation(baseline, target, num_steps=1000):\n",
    "    integrated_gradients = torch.zeros_like(torch.tensor(baseline))  # Convert to PyTorch tensor\n",
    "    #baseline = torch.zeros_like(torch.tensor(baseline))\n",
    "    start_instance_tensor = torch.tensor(baseline, dtype=torch.float32, requires_grad=True)\n",
    "    end_instance_tensor = torch.tensor(target, dtype=torch.float32, requires_grad=True)\n",
    "\n",
    "            # Linear interpolation between start and end instances\n",
    "    path_interp = torch.linspace(0, 1, num_steps).view(-1, 1)\n",
    "    interp_instances = (1 - path_interp) * start_instance_tensor + path_interp * end_instance_tensor\n",
    "               # Compute model output at each interpolated point\n",
    "    #outputs = self.model_interface(interp_instances)\n",
    "\n",
    "            # Sum the outputs to make it a scalar (assuming the model returns a tensor)\n",
    "    #outputs_sum = torch.sum(outputs)\n",
    "\n",
    "            # Compute gradients at each interpolated point\n",
    "    #gradients = torch.autograd.grad(outputs_sum, interp_instances, retain_graph=True)[0]\n",
    "\n",
    "            # Clip gradients to a reasonable range\n",
    "            #gradients = torch.clamp(gradients, min=-1.0, max=1.0)\n",
    "            # Integrate gradients along the path\n",
    "    #integrated_gradients += torch.sum(gradients, dim=0)/len(gradients)*(end_instance_tensor - start_instance_tensor)\n",
    "\n",
    "    return interp_instances"
   ]
  },
  {
   "cell_type": "markdown",
   "metadata": {},
   "source": [
    "## QUCE (Quantifiable Path-Based Uncertainty Counterfactual Explanations)"
   ]
  },
  {
   "cell_type": "markdown",
   "metadata": {},
   "source": [
    "### Train Data"
   ]
  },
  {
   "cell_type": "code",
   "execution_count": null,
   "metadata": {},
   "outputs": [],
   "source": [
    "# Specify the number of instances\n",
    "num_instances = 100\n",
    "\n",
    "# Initialize a list to store average VAE losses for each instance\n",
    "average_vae_losses_per_instance = []\n",
    "average_vae_losses_per_instance_IG = []\n",
    "# Loop over each instance in input_tensor\n",
    "for instance_index in range(num_instances):\n",
    "    # Generate the counterfactuals path for the current instance\n",
    "    generator_fn = generator.generate_counterfactuals(\n",
    "        query_instance=input_tensor[instance_index : instance_index + 1],\n",
    "        time_constant_index=0,\n",
    "        lr=0.01,\n",
    "        optimizer='adam',\n",
    "        target_prob_threshold=None\n",
    "    )\n",
    "    generated_instance = generator_fn[0]\n",
    "    generated_instance_path = generator_fn[4]\n",
    "    \n",
    "    generated_instance_path_IG = compute_integrated_gradients_interpolation(input_tensor[instance_index : instance_index + 1][0], generated_instance, num_steps=1000)\n",
    "    \n",
    "    # Initialize a list to store VAE losses for the current instance\n",
    "    vae_losses = []\n",
    "    vae_losses_IG = [] \n",
    "    # Loop over each step in the generated_instance_path\n",
    "    for x_step in generated_instance_path:\n",
    "        # Assuming generator.vae returns (reconstructed_x, mu, log_var)\n",
    "        reconstructed_x, mu, log_var = generator.vae(torch.tensor(x_step[0]))\n",
    "\n",
    "        # Compute the VAE loss for the current step\n",
    "        vae_loss_step = generator.vae_loss(torch.tensor(x_step[0]), reconstructed_x, mu, log_var)\n",
    "\n",
    "        # Append the VAE loss to the list\n",
    "        vae_losses.append(vae_loss_step.item())\n",
    "    \n",
    "    for x_step_2 in generated_instance_path_IG:\n",
    "        # Assuming generator.vae returns (reconstructed_x, mu, log_var)\n",
    "        reconstructed_x_ig, mu_ig, log_var_ig = generator.vae(torch.tensor(x_step_2))\n",
    "\n",
    "        # Compute the VAE loss for the current step\n",
    "        vae_loss_step_IG = generator.vae_loss(torch.tensor(x_step_2), reconstructed_x_ig, mu_ig, log_var_ig)\n",
    "\n",
    "        # Append the VAE loss to the list\n",
    "        vae_losses_IG.append(vae_loss_step_IG.item())\n",
    "    \n",
    "    # Convert the list of VAE losses to a PyTorch tensor\n",
    "    vae_losses_tensor = torch.tensor(vae_losses)\n",
    "    vae_losses_tensor_IG = torch.tensor(vae_losses_IG)\n",
    "    # Calculate the average VAE loss for the current instance\n",
    "    average_vae_loss = torch.mean(vae_losses_tensor)\n",
    "    average_vae_loss_IG = torch.mean(vae_losses_tensor_IG)\n",
    "\n",
    "    # Append the average VAE loss to the list\n",
    "    average_vae_losses_per_instance.append(average_vae_loss.item())\n",
    "    average_vae_losses_per_instance_IG.append(average_vae_loss_IG.item())"
   ]
  },
  {
   "cell_type": "code",
   "execution_count": null,
   "metadata": {},
   "outputs": [],
   "source": [
    "# Convert the list of average VAE losses to a PyTorch tensor\n",
    "average_vae_losses_per_instance_QUCE = average_vae_losses_per_instance \n",
    "average_vae_losses_tensor_QUCE = torch.tensor(average_vae_losses_per_instance_QUCE)\n",
    "\n",
    "# Calculate the overall average of the average VAE loss across all instances\n",
    "overall_average_vae_loss_QUCE = torch.mean(average_vae_losses_tensor_QUCE)\n",
    "\n",
    "\n",
    "average_vae_losses_tensor_IG = torch.tensor(average_vae_losses_per_instance_IG)\n",
    "\n",
    "# Calculate the overall average of the average VAE loss across all instances\n",
    "overall_average_vae_loss_IG = torch.mean(average_vae_losses_tensor_IG)\n",
    "\n",
    "print(f'Overall Average VAE Loss: {overall_average_vae_loss_QUCE.item()}')\n",
    "print(f'Overall Average VAE Loss: {overall_average_vae_loss_IG.item()}')"
   ]
  },
  {
   "cell_type": "code",
   "execution_count": null,
   "metadata": {},
   "outputs": [],
   "source": [
    "torch.std(average_vae_losses_tensor_QUCE)"
   ]
  },
  {
   "cell_type": "code",
   "execution_count": null,
   "metadata": {},
   "outputs": [],
   "source": [
    "torch.std(average_vae_losses_tensor_IG)"
   ]
  },
  {
   "cell_type": "markdown",
   "metadata": {},
   "source": [
    "### Test Data"
   ]
  },
  {
   "cell_type": "code",
   "execution_count": null,
   "metadata": {},
   "outputs": [],
   "source": [
    "# Specify the number of instances\n",
    "num_instances = 100\n",
    "\n",
    "# Initialize a list to store average VAE losses for each instance\n",
    "average_vae_losses_per_instance = []\n",
    "average_vae_losses_per_instance_IG = []\n",
    "# Loop over each instance in input_tensor\n",
    "for instance_index in range(num_instances):\n",
    "    # Generate the counterfactuals path for the current instance\n",
    "    generator_fn = generator.generate_counterfactuals(\n",
    "        query_instance=test_input_tensor[instance_index : instance_index + 1],\n",
    "        time_constant_index=0,\n",
    "        lr=0.01,\n",
    "        optimizer='adam',\n",
    "        target_prob_threshold=None\n",
    "    )\n",
    "    generated_instance = generator_fn[0]\n",
    "    generated_instance_path = generator_fn[4]\n",
    "    \n",
    "    generated_instance_path_IG = compute_integrated_gradients_interpolation(test_input_tensor[instance_index : instance_index + 1][0], generated_instance, num_steps=1000)\n",
    "    \n",
    "    # Initialize a list to store VAE losses for the current instance\n",
    "    vae_losses = []\n",
    "    vae_losses_IG = [] \n",
    "    # Loop over each step in the generated_instance_path\n",
    "    for x_step in generated_instance_path:\n",
    "        # Assuming generator.vae returns (reconstructed_x, mu, log_var)\n",
    "        reconstructed_x, mu, log_var = generator.vae(torch.tensor(x_step[0]))\n",
    "\n",
    "        # Compute the VAE loss for the current step\n",
    "        vae_loss_step = generator.vae_loss(torch.tensor(x_step[0]), reconstructed_x, mu, log_var)\n",
    "\n",
    "        # Append the VAE loss to the list\n",
    "        vae_losses.append(vae_loss_step.item())\n",
    "    \n",
    "    for x_step_2 in generated_instance_path_IG:\n",
    "        # Assuming generator.vae returns (reconstructed_x, mu, log_var)\n",
    "        reconstructed_x_ig, mu_ig, log_var_ig = generator.vae(torch.tensor(x_step_2))\n",
    "\n",
    "        # Compute the VAE loss for the current step\n",
    "        vae_loss_step_IG = generator.vae_loss(torch.tensor(x_step_2), reconstructed_x_ig, mu_ig, log_var_ig)\n",
    "\n",
    "        # Append the VAE loss to the list\n",
    "        vae_losses_IG.append(vae_loss_step_IG.item())\n",
    "    \n",
    "    # Convert the list of VAE losses to a PyTorch tensor\n",
    "    vae_losses_tensor = torch.tensor(vae_losses)\n",
    "    vae_losses_tensor_IG = torch.tensor(vae_losses_IG)\n",
    "    # Calculate the average VAE loss for the current instance\n",
    "    average_vae_loss = torch.mean(vae_losses_tensor)\n",
    "    average_vae_loss_IG = torch.mean(vae_losses_tensor_IG)\n",
    "\n",
    "    # Append the average VAE loss to the list\n",
    "    average_vae_losses_per_instance.append(average_vae_loss.item())\n",
    "    average_vae_losses_per_instance_IG.append(average_vae_loss_IG.item())"
   ]
  },
  {
   "cell_type": "code",
   "execution_count": null,
   "metadata": {},
   "outputs": [],
   "source": [
    "# Convert the list of average VAE losses to a PyTorch tensor\n",
    "average_vae_losses_per_instance_QUCE = average_vae_losses_per_instance \n",
    "average_vae_losses_tensor_QUCE = torch.tensor(average_vae_losses_per_instance_QUCE)\n",
    "\n",
    "# Calculate the overall average of the average VAE loss across all instances\n",
    "overall_average_vae_loss_QUCE = torch.mean(average_vae_losses_tensor_QUCE)\n",
    "\n",
    "\n",
    "average_vae_losses_tensor_IG = torch.tensor(average_vae_losses_per_instance_IG)\n",
    "\n",
    "# Calculate the overall average of the average VAE loss across all instances\n",
    "overall_average_vae_loss_IG = torch.mean(average_vae_losses_tensor_IG)\n",
    "\n",
    "print(f'Overall Average VAE Loss: {overall_average_vae_loss_QUCE.item()}')\n",
    "print(f'Overall Average VAE Loss: {overall_average_vae_loss_IG.item()}')"
   ]
  },
  {
   "cell_type": "code",
   "execution_count": null,
   "metadata": {},
   "outputs": [],
   "source": [
    "torch.std(average_vae_losses_tensor_QUCE)"
   ]
  },
  {
   "cell_type": "code",
   "execution_count": null,
   "metadata": {},
   "outputs": [],
   "source": [
    "torch.std(average_vae_losses_tensor_IG)"
   ]
  },
  {
   "cell_type": "markdown",
   "metadata": {},
   "source": [
    "## AGI (Adversarial Gradient Integration)"
   ]
  },
  {
   "cell_type": "markdown",
   "metadata": {},
   "source": [
    "### Train Data"
   ]
  },
  {
   "cell_type": "code",
   "execution_count": null,
   "metadata": {},
   "outputs": [],
   "source": [
    "# Specify the number of instances\n",
    "num_instances = 100\n",
    "\n",
    "# Initialize a list to store average VAE losses for each instance\n",
    "average_vae_losses_per_instance = []\n",
    "\n",
    "# Loop over each instance in input_tensor\n",
    "for instance_index in range(num_instances):\n",
    "    # Generate the AGI path for the current instance\n",
    "    agi_path_result = individual_agi_sigmoid(model, input_tensor[instance_index : instance_index + 1])\n",
    "\n",
    "    # Initialize a list to store VAE losses for the current instance\n",
    "    vae_losses = []\n",
    "\n",
    "    # Loop over each step in the agi_path_result\n",
    "    for x_step in agi_path_result:\n",
    "        # Assuming generator.vae returns (reconstructed_x, mu, log_var)\n",
    "        reconstructed_x, mu, log_var = generator.vae(torch.tensor(x_step[0]))\n",
    "\n",
    "        # Compute the VAE loss for the current step\n",
    "        vae_loss_step = generator.vae_loss(torch.tensor(x_step[0]), reconstructed_x, mu, log_var)\n",
    "\n",
    "        # Append the VAE loss to the list\n",
    "        vae_losses.append(vae_loss_step.item())\n",
    "\n",
    "    # Convert the list of VAE losses to a PyTorch tensor\n",
    "    vae_losses_tensor = torch.tensor(vae_losses)\n",
    "\n",
    "    # Calculate the average VAE loss for the current instance\n",
    "    average_vae_loss = torch.mean(vae_losses_tensor)\n",
    "\n",
    "    # Append the average VAE loss to the list\n",
    "    average_vae_losses_per_instance.append(average_vae_loss.item())\n"
   ]
  },
  {
   "cell_type": "code",
   "execution_count": null,
   "metadata": {},
   "outputs": [],
   "source": [
    "# Convert the list of average VAE losses to a PyTorch tensor\n",
    "average_vae_losses_per_instance_AGI = average_vae_losses_per_instance\n",
    "average_vae_losses_tensor_AGI = torch.tensor(average_vae_losses_per_instance_AGI)\n",
    "\n",
    "# Calculate the overall average of the average VAE loss across all instances\n",
    "overall_average_vae_loss_AGI = torch.mean(average_vae_losses_tensor_AGI)\n",
    "\n",
    "print(f'Overall Average VAE Loss: {overall_average_vae_loss_AGI.item()}')"
   ]
  },
  {
   "cell_type": "code",
   "execution_count": null,
   "metadata": {},
   "outputs": [],
   "source": [
    "torch.std(average_vae_losses_tensor_AGI)"
   ]
  },
  {
   "cell_type": "markdown",
   "metadata": {},
   "source": [
    "### Test Data"
   ]
  },
  {
   "cell_type": "code",
   "execution_count": null,
   "metadata": {},
   "outputs": [],
   "source": [
    "num_instances = 100\n",
    "\n",
    "# Initialize a list to store average VAE losses for each instance\n",
    "average_vae_losses_per_instance = []\n",
    "\n",
    "# Loop over each instance in input_tensor\n",
    "for instance_index in range(num_instances):\n",
    "    # Generate the AGI path for the current instance\n",
    "    agi_path_result = individual_agi_sigmoid(model, test_input_tensor[instance_index : instance_index + 1])\n",
    "\n",
    "    # Initialize a list to store VAE losses for the current instance\n",
    "    vae_losses = []\n",
    "\n",
    "    # Loop over each step in the agi_path_result\n",
    "    for x_step in agi_path_result:\n",
    "        # Assuming generator.vae returns (reconstructed_x, mu, log_var)\n",
    "        reconstructed_x, mu, log_var = generator.vae(torch.tensor(x_step[0]))\n",
    "\n",
    "        # Compute the VAE loss for the current step\n",
    "        vae_loss_step = generator.vae_loss(torch.tensor(x_step[0]), reconstructed_x, mu, log_var)\n",
    "\n",
    "        # Append the VAE loss to the list\n",
    "        vae_losses.append(vae_loss_step.item())\n",
    "\n",
    "    # Convert the list of VAE losses to a PyTorch tensor\n",
    "    vae_losses_tensor = torch.tensor(vae_losses)\n",
    "\n",
    "    # Calculate the average VAE loss for the current instance\n",
    "    average_vae_loss = torch.mean(vae_losses_tensor)\n",
    "\n",
    "    # Append the average VAE loss to the list\n",
    "    average_vae_losses_per_instance.append(average_vae_loss.item())\n"
   ]
  },
  {
   "cell_type": "code",
   "execution_count": null,
   "metadata": {},
   "outputs": [],
   "source": [
    "# Convert the list of average VAE losses to a PyTorch tensor\n",
    "average_vae_losses_per_instance_AGI = average_vae_losses_per_instance\n",
    "average_vae_losses_tensor_AGI = torch.tensor(average_vae_losses_per_instance_AGI)\n",
    "\n",
    "# Calculate the overall average of the average VAE loss across all instances\n",
    "overall_average_vae_loss_AGI = torch.mean(average_vae_losses_tensor_AGI)\n",
    "\n",
    "print(f'Overall Average VAE Loss: {overall_average_vae_loss_AGI.item()}')"
   ]
  },
  {
   "cell_type": "code",
   "execution_count": null,
   "metadata": {},
   "outputs": [],
   "source": [
    "torch.std(average_vae_losses_tensor_AGI)"
   ]
  },
  {
   "cell_type": "code",
   "execution_count": null,
   "metadata": {},
   "outputs": [],
   "source": []
  }
 ],
 "metadata": {
  "kernelspec": {
   "display_name": "Python 3 (ipykernel)",
   "language": "python",
   "name": "python3"
  },
  "language_info": {
   "codemirror_mode": {
    "name": "ipython",
    "version": 3
   },
   "file_extension": ".py",
   "mimetype": "text/x-python",
   "name": "python",
   "nbconvert_exporter": "python",
   "pygments_lexer": "ipython3",
   "version": "3.11.5"
  }
 },
 "nbformat": 4,
 "nbformat_minor": 2
}
